{
 "cells": [
  {
   "cell_type": "markdown",
   "metadata": {},
   "source": [
    "# Twitter US Election Analysis"
   ]
  },
  {
   "cell_type": "markdown",
   "metadata": {},
   "source": [
    "## 1. Creating a background environment"
   ]
  },
  {
   "cell_type": "markdown",
   "metadata": {},
   "source": [
    "#### Load datasets, tweet texts and retweet IDs"
   ]
  },
  {
   "cell_type": "code",
   "execution_count": 2,
   "metadata": {},
   "outputs": [],
   "source": [
    "import numpy as np\n",
    "import json\n",
    "\n",
    "file = open(r\"/Users/Mughundhan/UIC/UIC Academics/SPRING 2018/TEXT ANALYTICS/Assignment1/shutdown.json\")\n",
    "js = json.load(file)\n",
    "\n",
    "retweet_Id =[] #For retweet IDs.\n",
    "for i in range(len(js)):\n",
    "    if \"retweeted_status\" in js[i]:\n",
    "        retweet_Id.append(js[i][\"retweeted_status\"][\"user\"][\"screen_name\"])\n",
    "\n",
    "#Code chunk to load the Tweet Texts\n",
    "tweet_data=[] #For tweet text\n",
    "for i in range(len(js)):\n",
    "    tweet_data.append(js[i][\"text\"])"
   ]
  },
  {
   "cell_type": "markdown",
   "metadata": {},
   "source": [
    "## 2. Data Cleaning"
   ]
  },
  {
   "cell_type": "markdown",
   "metadata": {},
   "source": [
    "#### Remove duplicate tweets"
   ]
  },
  {
   "cell_type": "code",
   "execution_count": 7,
   "metadata": {},
   "outputs": [
    {
     "name": "stdout",
     "output_type": "stream",
     "text": [
      "('The total number of Tweet Texts in the given dataset is:', 5000)\n",
      "('The total number of unique Tweet Texts shall be found using numpy and it is:', 919)\n"
     ]
    }
   ],
   "source": [
    "unique_Tweet=[]\n",
    "unique_Tweet = np.unique(tweet_data)\n",
    "unique_Tweet\n",
    "print(\"The total number of Tweet Texts in the given dataset is:\",len(tweet_data))\n",
    "print(\"The total number of unique Tweet Texts shall be found using numpy and it is:\",len(np.unique(tweet_data)))"
   ]
  },
  {
   "cell_type": "markdown",
   "metadata": {},
   "source": [
    "#### We can see that, there are 919 tweets remaining on excluding the duplicates.\n",
    "\n",
    "#### Vectorize tweets using binary vectorization\n",
    "1. Remove URLs\n",
    "2. Remove Mentions\n",
    "3. Rename Hashtags"
   ]
  },
  {
   "cell_type": "code",
   "execution_count": 9,
   "metadata": {},
   "outputs": [],
   "source": [
    "import re #for regular expressions\n",
    "\n",
    "\n",
    "##Renaming Hashtag using Regular Expressions\n",
    "regexp_Htag = '(?<=^|(?<=[^a-zA-Z0-9-_\\.]))#([A-Za-z]+[A-Za-z0-9]+)'\n",
    "pattern_Htag = re.compile(regexp_Htag, re.UNICODE | re.IGNORECASE)\n",
    "\n",
    "##Remove Mention using Regular Expressions\n",
    "regexp_mention = '(?<=^|(?<=[^a-zA-Z0-9-_\\.]))@([A-Za-z0-9_]+[A-Za-z0-9_]+)'\n",
    "pattern_mention = re.compile(regexp_mention, re.UNICODE | re.IGNORECASE)\n",
    "\n",
    "##Remove URLs using Regular Expressions\n",
    "regexp_URL = 'http[s]?://(?:[a-zA-Z]|[0-9]|[$-_@.&+]|[!*\\(\\),]|(?:%[0-9a-fA-F][0-9a-fA-F]))+'\n",
    "pattern_URL = re.compile(regexp_URL, re.UNICODE | re.IGNORECASE)\n",
    "\n",
    "def preprocess(text):\n",
    "    temp = pattern_URL.sub('',text)                  #Removing URLs \n",
    "    temp = re.sub('\\.(?!$)', '',temp)                #Removing periods to detect mentions\n",
    "    temp = pattern_mention.sub('',temp)              #Removing Mentions\n",
    "    temp = pattern_Htag.sub(r' hashtag_\\1',temp)     #Replacing hashtags with hashtag_\n",
    "    temp = temp.replace('\\n','')                     \n",
    "    temp = re.sub('^RT','',temp)                     \n",
    "    temp = re.sub(':','',temp)                       \n",
    "    temp = temp.lstrip(' ')                          \n",
    "    return temp\n",
    "\n",
    "preprocess_Tweet =[]\n",
    "for i in range(len(unique_Tweet)):\n",
    "    preprocess_Tweet.append(preprocess(unique_Tweet[i]))\n",
    "\n",
    "preprocess_Tweet[:5]"
   ]
  },
  {
   "cell_type": "markdown",
   "metadata": {},
   "source": [
    "## 3. Preliminary Analysis"
   ]
  },
  {
   "cell_type": "markdown",
   "metadata": {},
   "source": [
    "#### Top five most popular retweet usernames"
   ]
  },
  {
   "cell_type": "code",
   "execution_count": 10,
   "metadata": {},
   "outputs": [
    {
     "name": "stdout",
     "output_type": "stream",
     "text": [
      "[u'foxnews' u'sendougjones' u'peterdaou' u'thedailyedge' u'banditrandom']\n"
     ]
    }
   ],
   "source": [
    "from sklearn.feature_extraction.text import CountVectorizer\n",
    "\n",
    "count = CountVectorizer(binary = True)\n",
    "X = count.fit_transform(retweet_Id)\n",
    "unique_Id = np.array(count.get_feature_names())\n",
    "\n",
    "freq = X.sum(0).A1\n",
    "order = freq.argsort()[::-1]\n",
    "print(unique_Id[order[:5]])"
   ]
  },
  {
   "cell_type": "markdown",
   "metadata": {},
   "source": [
    "#### Top five most popular Hashtags"
   ]
  },
  {
   "cell_type": "code",
   "execution_count": 11,
   "metadata": {},
   "outputs": [
    {
     "name": "stdout",
     "output_type": "stream",
     "text": [
      "[u'hashtag_shutdown' u'hashtag_trumpshutdown' u'hashtag_trump'\n",
      " u'hashtag_schumershutdown' u'hashtag_daca']\n"
     ]
    }
   ],
   "source": [
    "from sklearn.feature_extraction.text import CountVectorizer, TfidfVectorizer\n",
    "\n",
    "##Vectorize tweets using binary vectorization\n",
    "bcount = CountVectorizer(binary = True)\n",
    "Y = bcount.fit_transform(preprocess_Tweet)\n",
    "\n",
    "hashtags = np.array(bcount.get_feature_names())\n",
    "indices = [i for i,item in enumerate(hashtags) if \"hashtag\" in item]\n",
    "freq = Y[:,indices].sum(0).A1\n",
    "order = freq.argsort()[::-1]\n",
    "new = hashtags[indices]\n",
    "print(new[order[:5]])"
   ]
  },
  {
   "cell_type": "markdown",
   "metadata": {},
   "source": [
    "## 4. Map Document Term Matrix to 2-D Space"
   ]
  },
  {
   "cell_type": "markdown",
   "metadata": {},
   "source": [
    "#### Plot using Binary Vectorization"
   ]
  },
  {
   "cell_type": "code",
   "execution_count": 12,
   "metadata": {},
   "outputs": [
    {
     "name": "stdout",
     "output_type": "stream",
     "text": [
      "Dimension (919, 2849) -> (919, 2)\n"
     ]
    },
    {
     "data": {
      "image/png": "[encoded data removed]",
      "text/plain": [
       "<matplotlib.figure.Figure at 0x114446e10>"
      ]
     },
     "metadata": {},
     "output_type": "display_data"
    }
   ],
   "source": [
    "import matplotlib #for plotting graphs\n",
    "import matplotlib.pyplot as plt\n",
    "%matplotlib inline  \n",
    "#to display it on the ipynb\n",
    "\n",
    "from sklearn.decomposition import TruncatedSVD\n",
    "vector1 = CountVectorizer(binary = True, stop_words = 'english')\n",
    "fit = vector1.fit_transform(preprocess_Tweet)\n",
    "\n",
    "lsa = TruncatedSVD(2)\n",
    "fit2 = lsa.fit_transform(fit)\n",
    "\n",
    "print(\"Dimension %s -> %s\" % (fit.shape,fit2.shape))\n",
    "\n",
    "plt.scatter(fit2[:,1],fit2[:,0], c='orange')\n",
    "plt.title(\"Plot using Binary Vectorization\")\n",
    "plt.show()"
   ]
  },
  {
   "cell_type": "markdown",
   "metadata": {},
   "source": [
    "#### Plot using Count Vectorization"
   ]
  },
  {
   "cell_type": "code",
   "execution_count": 13,
   "metadata": {},
   "outputs": [
    {
     "name": "stdout",
     "output_type": "stream",
     "text": [
      "Dimension (919, 2849) -> (919, 2)\n"
     ]
    },
    {
     "data": {
      "image/png": "[encoded data removed]",
      "text/plain": [
       "<matplotlib.figure.Figure at 0x114485050>"
      ]
     },
     "metadata": {},
     "output_type": "display_data"
    }
   ],
   "source": [
    "import matplotlib\n",
    "import matplotlib.pyplot as plt\n",
    "%matplotlib inline\n",
    "\n",
    "from sklearn.decomposition import TruncatedSVD\n",
    "vector1 = CountVectorizer(binary = False, stop_words = 'english')\n",
    "fit = vector1.fit_transform(preprocess_Tweet)\n",
    "\n",
    "lsa = TruncatedSVD(2)\n",
    "fit2 = lsa.fit_transform(fit)\n",
    "\n",
    "print(\"Dimension %s -> %s\" % (fit.shape,fit2.shape))\n",
    "\n",
    "plt.scatter(fit2[:,1],fit2[:,0],c='purple')\n",
    "plt.title(\"Plot using Count Vectorization\")\n",
    "plt.show()"
   ]
  },
  {
   "cell_type": "markdown",
   "metadata": {},
   "source": [
    "#### Plot using TF-IDF Vectorization"
   ]
  },
  {
   "cell_type": "code",
   "execution_count": 14,
   "metadata": {},
   "outputs": [
    {
     "name": "stdout",
     "output_type": "stream",
     "text": [
      "Dimension (919, 2849) -> (919, 2)\n"
     ]
    },
    {
     "data": {
      "image/png": "[encoded data removed]",
      "text/plain": [
       "<matplotlib.figure.Figure at 0x116953190>"
      ]
     },
     "metadata": {},
     "output_type": "display_data"
    }
   ],
   "source": [
    "import matplotlib\n",
    "import matplotlib.pyplot as plt\n",
    "%matplotlib inline\n",
    "\n",
    "from sklearn.decomposition import TruncatedSVD\n",
    "vector1 = TfidfVectorizer(binary = False, stop_words = 'english')\n",
    "fit = vector1.fit_transform(preprocess_Tweet)\n",
    "\n",
    "lsa = TruncatedSVD(2)\n",
    "fit2 = lsa.fit_transform(fit)\n",
    "\n",
    "print(\"Dimension %s -> %s\" % (fit.shape,fit2.shape))\n",
    "\n",
    "plt.scatter(fit2[:,1],fit2[:,0],c='brown')\n",
    "plt.title(\"Plot using TF-IDF Vectorization\")\n",
    "plt.show()"
   ]
  },
  {
   "cell_type": "markdown",
   "metadata": {},
   "source": [
    "## 5. Co-occurrence Analysis"
   ]
  },
  {
   "cell_type": "markdown",
   "metadata": {},
   "source": [
    "#### Identify which two hashtags appear together in the same tweet mostly"
   ]
  },
  {
   "cell_type": "code",
   "execution_count": 15,
   "metadata": {},
   "outputs": [
    {
     "name": "stdout",
     "output_type": "stream",
     "text": [
      "[[u'hashtag_shutdown' u'hashtag_trumpshutdown']]\n"
     ]
    }
   ],
   "source": [
    "cocurr_count = CountVectorizer(binary = True, stop_words='english' )\n",
    "Z = cocurr_count.fit_transform(preprocess_Tweet)\n",
    "\n",
    "hashtag = np.array(cocurr_count.get_feature_names())\n",
    "\n",
    "indices_n = [i for i,item in enumerate(hashtag) if \"hashtag\" in item]\n",
    "\n",
    "Zc = (Z[:,indices_n].T * Z[:,indices_n])\n",
    "Zc.setdiag(0) \n",
    "\n",
    "order = np.argwhere(Zc == np.amax(Zc))\n",
    "\n",
    "new_Htag = hashtag[indices_n]\n",
    "\n",
    "print(np.unique(new_Htag[order]).reshape(-1,2))"
   ]
  },
  {
   "cell_type": "markdown",
   "metadata": {},
   "source": [
    "#### Identify the 2nd most often occurring pair"
   ]
  },
  {
   "cell_type": "code",
   "execution_count": 16,
   "metadata": {},
   "outputs": [
    {
     "name": "stdout",
     "output_type": "stream",
     "text": [
      "[[u'hashtag_shutdown' u'hashtag_trump']]\n"
     ]
    }
   ],
   "source": [
    "Zx = Zc\n",
    "\n",
    "for x in range(len(order)):\n",
    "    i = order[x][0]\n",
    "    j = order[x][1]\n",
    "    Zx[i,j] = 0\n",
    "\n",
    "\n",
    "new_order = np.argwhere(Zx == np.amax(Zx))\n",
    "\n",
    "new_Htag = hashtag[indices_n]\n",
    "\n",
    "print(np.unique(new_Htag[new_order]).reshape(-1,2))"
   ]
  },
  {
   "cell_type": "code",
   "execution_count": null,
   "metadata": {},
   "outputs": [],
   "source": []
  }
 ],
 "metadata": {
  "kernelspec": {
   "display_name": "Python 2",
   "language": "python",
   "name": "python2"
  },
  "language_info": {
   "codemirror_mode": {
    "name": "ipython",
    "version": 2
   },
   "file_extension": ".py",
   "mimetype": "text/x-python",
   "name": "python",
   "nbconvert_exporter": "python",
   "pygments_lexer": "ipython2",
   "version": "2.7.14"
  }
 },
 "nbformat": 4,
 "nbformat_minor": 2
}
